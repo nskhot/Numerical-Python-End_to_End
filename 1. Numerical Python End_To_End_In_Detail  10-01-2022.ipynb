{
 "cells": [
  {
   "cell_type": "code",
   "execution_count": 1,
   "id": "877c5fdd",
   "metadata": {},
   "outputs": [
    {
     "name": "stdout",
     "output_type": "stream",
     "text": [
      "Defaulting to user installation because normal site-packages is not writeable\n",
      "Collecting numpy\n",
      "  Downloading numpy-1.19.5-cp36-cp36m-manylinux2010_x86_64.whl (14.8 MB)\n",
      "\u001b[K     |████████████████████████████████| 14.8 MB 247 kB/s eta 0:00:01    |█▉                              | 829 kB 6.9 MB/s eta 0:00:03     |████████████████████▍           | 9.4 MB 2.6 MB/s eta 0:00:03     |██████████████████████          | 10.2 MB 2.6 MB/s eta 0:00:02\n",
      "\u001b[?25hInstalling collected packages: numpy\n",
      "Successfully installed numpy-1.19.5\n",
      "\u001b[33mWARNING: You are using pip version 21.2.4; however, version 21.3.1 is available.\n",
      "You should consider upgrading via the '/usr/bin/python3 -m pip install --upgrade pip' command.\u001b[0m\n"
     ]
    }
   ],
   "source": [
    "!pip install numpy"
   ]
  },
  {
   "cell_type": "markdown",
   "id": "a659d07d",
   "metadata": {},
   "source": [
    "# Numerical python End To End i Detail"
   ]
  },
  {
   "cell_type": "markdown",
   "id": "b575acac",
   "metadata": {},
   "source": [
    "\n",
    "\n",
    "Numpy:\n",
    "\n",
    "Numpy- is a Numerical Python\n",
    "\n",
    "It is developed by Travis Oliphant in 2005\n",
    "\n",
    "Numpy has functions to work on linear algebra, fourier transform, and matrices\n",
    "\n",
    "Its basically used to work with array, It can work with multidimentional Arrays\n",
    "\n",
    "\n",
    "Why:\n",
    "\n",
    "Numpy is built using python, and most of the part which requires fatser execution is developed using c or c++,So it is very fast in execution.\n",
    "\n",
    "Numpy arrays are called as ndarray\n",
    "\n",
    "Numpy has 50x speed as compared to python list\n",
    "\n",
    "Numpy provides lots of functions which can be performed on large data\n",
    "\n",
    "Numpy gives faster response as compared to list as it stores numpy arrays at one continuous location\n",
    "\n",
    "Numpy codes are available at: https://github.com/numpy/numpy\n"
   ]
  },
  {
   "cell_type": "code",
   "execution_count": 1,
   "id": "001587e7",
   "metadata": {},
   "outputs": [
    {
     "data": {
      "text/plain": [
       "'1.19.5'"
      ]
     },
     "execution_count": 1,
     "metadata": {},
     "output_type": "execute_result"
    }
   ],
   "source": [
    "import numpy as np\n",
    "np.__version__"
   ]
  },
  {
   "cell_type": "code",
   "execution_count": 2,
   "id": "9156dbc0",
   "metadata": {},
   "outputs": [
    {
     "name": "stdout",
     "output_type": "stream",
     "text": [
      "[ 1  2  3  4  5  6 78  9]\n",
      "<class 'numpy.ndarray'>\n",
      "[10 20 30 40 50]\n",
      "<class 'numpy.ndarray'>\n"
     ]
    }
   ],
   "source": [
    "# create numpy array using list\n",
    "arr = np.array([1,2,3,4,5,6,78,9])\n",
    "\n",
    "print(arr)\n",
    "print(type(arr))\n",
    "\n",
    "list1 = [10,20,30,40,50]\n",
    "\n",
    "arr1 = np.array(list1)\n",
    "print(arr1)\n",
    "print(type(arr1))\n"
   ]
  },
  {
   "cell_type": "code",
   "execution_count": 3,
   "id": "5bc0b9af",
   "metadata": {},
   "outputs": [
    {
     "name": "stdout",
     "output_type": "stream",
     "text": [
      "[1 2 4 5 6 7]\n",
      "Number of Diamensions: 1\n"
     ]
    }
   ],
   "source": [
    "# how to access the element \n",
    "# its 1D array\n",
    "\n",
    "arr = np.array([1,2,4,5,6,7])\n",
    "print(arr)\n",
    "\n",
    "#lets check the diamensions of the array\n",
    "print(\"Number of Diamensions:\",arr.ndim)"
   ]
  },
  {
   "cell_type": "code",
   "execution_count": 4,
   "id": "420af686",
   "metadata": {},
   "outputs": [
    {
     "name": "stdout",
     "output_type": "stream",
     "text": [
      "(1, 2, 3, 4, 5, 6)\n",
      "<class 'tuple'>\n",
      "[1 2 3 4 5 6]\n",
      "<class 'numpy.ndarray'>\n",
      "diamensions: 1\n"
     ]
    }
   ],
   "source": [
    "#created numpy array using tuple\n",
    "\n",
    "tup =(1,2,3,4,5,6)\n",
    "print(tup)\n",
    "print(type(tup))\n",
    "\n",
    "arr =np.array(tup)\n",
    "print(arr)\n",
    "print(type(arr))\n",
    "print(\"diamensions:\",arr.ndim)"
   ]
  },
  {
   "cell_type": "raw",
   "id": "6900c93f",
   "metadata": {},
   "source": [
    "#different Diamensional arrays"
   ]
  },
  {
   "cell_type": "code",
   "execution_count": 5,
   "id": "b20fa372",
   "metadata": {},
   "outputs": [
    {
     "name": "stdout",
     "output_type": "stream",
     "text": [
      "10\n",
      "<class 'numpy.ndarray'>\n",
      "Dimensions: 0\n"
     ]
    }
   ],
   "source": [
    "#0-D array\n",
    "arr = np.array(10)\n",
    "print(arr)\n",
    "print(type(arr))\n",
    "\n",
    "print(\"Dimensions:\",arr.ndim)"
   ]
  },
  {
   "cell_type": "code",
   "execution_count": 6,
   "id": "3e40b528",
   "metadata": {},
   "outputs": [
    {
     "name": "stdout",
     "output_type": "stream",
     "text": [
      "[ 1  2 34  5  6  7]\n",
      "<class 'numpy.ndarray'>\n",
      "Dimensions: 1\n",
      "print the 4th loc no. 6\n"
     ]
    }
   ],
   "source": [
    "# 1=D array\n",
    "\n",
    "arr = np.array((1,2,34,5,6,7))\n",
    "print(arr)\n",
    "print(type(arr))\n",
    "\n",
    "print(\"Dimensions:\",arr.ndim)\n",
    "\n",
    "print(\"print the 4th loc no.\",arr[4])"
   ]
  },
  {
   "cell_type": "code",
   "execution_count": 7,
   "id": "29a46056",
   "metadata": {},
   "outputs": [
    {
     "name": "stdout",
     "output_type": "stream",
     "text": [
      "[[1 2 3 4]\n",
      " [5 6 7 8]]\n",
      "<class 'numpy.ndarray'>\n",
      "Dimensions: 2\n"
     ]
    }
   ],
   "source": [
    "# 2-D Array\n",
    "\n",
    "ar = [[1,2,3,4],[5,6,7,8]]\n",
    "arr = np.array(ar)\n",
    "print(arr)\n",
    "print(type(arr))\n",
    "\n",
    "print(\"Dimensions:\",arr.ndim)"
   ]
  },
  {
   "cell_type": "code",
   "execution_count": 8,
   "id": "98970947",
   "metadata": {},
   "outputs": [
    {
     "name": "stdout",
     "output_type": "stream",
     "text": [
      "[1 2 3 4]\n",
      "3\n",
      "[5 6 7 8]\n",
      "5\n",
      "Dimensions: 2\n"
     ]
    }
   ],
   "source": [
    "# Access the element of 2-D array\n",
    "# one way is to write\n",
    "\n",
    "\n",
    "print(arr[0])\n",
    "print(arr[0][2])\n",
    "\n",
    "print(arr[1])\n",
    "print(arr[1][0])\n",
    "\n",
    "print(\"Dimensions:\",arr.ndim)"
   ]
  },
  {
   "cell_type": "code",
   "execution_count": 9,
   "id": "f0312980",
   "metadata": {},
   "outputs": [
    {
     "name": "stdout",
     "output_type": "stream",
     "text": [
      "<class 'list'>\n",
      "<class 'numpy.ndarray'>\n",
      "[[[ 1  2  3  4]\n",
      "  [ 5  6  7  8]]\n",
      "\n",
      " [[10 20 30 40]\n",
      "  [50 60 70 80]]]\n",
      "Diamentions: 3\n"
     ]
    }
   ],
   "source": [
    "#3-D array\n",
    "# array that has 2-D arrays (matrices) as its elements is called 3-D array.\n",
    "\n",
    "ar = [[[1,2,3,4],[5,6,7,8]],[[10,20,30,40],[50,60,70,80]]]\n",
    "\n",
    "print(type(ar))\n",
    "\n",
    "arr = np.array(ar)\n",
    "\n",
    "print(type(arr))\n",
    "print(arr)\n",
    "print(\"Diamentions:\",arr.ndim)"
   ]
  },
  {
   "cell_type": "code",
   "execution_count": 10,
   "id": "9b297d52",
   "metadata": {},
   "outputs": [
    {
     "name": "stdout",
     "output_type": "stream",
     "text": [
      "2\n",
      "20\n",
      "6\n",
      "60\n",
      "[[10 20 30 40]\n",
      " [50 60 70 80]]\n",
      "[5 6 7 8]\n"
     ]
    }
   ],
   "source": [
    "print(arr[0][0][1])\n",
    "print(arr[1][0][1])\n",
    "print(arr[0][1][1])\n",
    "print(arr[1][1][1])\n",
    "\n",
    "print(arr[1])\n",
    "print(arr[0,1])\n",
    "      "
   ]
  },
  {
   "cell_type": "code",
   "execution_count": 11,
   "id": "e7bae965",
   "metadata": {},
   "outputs": [
    {
     "name": "stdout",
     "output_type": "stream",
     "text": [
      "[[[[[1 2 3 4]]]]]\n",
      "number of diamensions : 5\n"
     ]
    }
   ],
   "source": [
    "# create an n diamentional array\n",
    "arr = np.array([1,2,3,4],ndmin=5)\n",
    "\n",
    "print(arr)\n",
    "print(\"number of diamensions :\",arr.ndim)"
   ]
  },
  {
   "cell_type": "markdown",
   "id": "5d70ba66",
   "metadata": {},
   "source": [
    "# Array Slicing"
   ]
  },
  {
   "cell_type": "code",
   "execution_count": 12,
   "id": "ff6f2ad0",
   "metadata": {},
   "outputs": [
    {
     "name": "stdout",
     "output_type": "stream",
     "text": [
      "[1 2 3 4 5 6 7 8 9]\n",
      "length : 9\n",
      "[1 2 3 4 5 6 7 8 9]\n"
     ]
    }
   ],
   "source": [
    "arr = np.array([1,2,3,4,5,6,7,8,9])\n",
    "print(arr)\n",
    "\n",
    "#slice\n",
    "print(\"length :\",len(arr))\n",
    "print(arr[0:9])\n",
    "\n",
    "#[start:end], start included, end excluded"
   ]
  },
  {
   "cell_type": "code",
   "execution_count": 13,
   "id": "3fe3ff86",
   "metadata": {},
   "outputs": [
    {
     "name": "stdout",
     "output_type": "stream",
     "text": [
      "[1 2 3 4]\n"
     ]
    }
   ],
   "source": [
    "print(arr[0:4])"
   ]
  },
  {
   "cell_type": "code",
   "execution_count": 14,
   "id": "7f4f6991",
   "metadata": {},
   "outputs": [
    {
     "name": "stdout",
     "output_type": "stream",
     "text": [
      "[5 6 7 8 9]\n"
     ]
    }
   ],
   "source": [
    "print(arr[4:])"
   ]
  },
  {
   "cell_type": "markdown",
   "id": "a1e4431e",
   "metadata": {},
   "source": [
    "# Negative Indices"
   ]
  },
  {
   "cell_type": "code",
   "execution_count": 15,
   "id": "3e2f0542",
   "metadata": {},
   "outputs": [
    {
     "name": "stdout",
     "output_type": "stream",
     "text": [
      "9\n"
     ]
    }
   ],
   "source": [
    "print(arr[-1])"
   ]
  },
  {
   "cell_type": "code",
   "execution_count": 16,
   "id": "0e17e7a5",
   "metadata": {},
   "outputs": [
    {
     "name": "stdout",
     "output_type": "stream",
     "text": [
      "[1 2 3 4 5 6 7 8 9]\n",
      "1\n"
     ]
    }
   ],
   "source": [
    "\n",
    "print(arr)\n",
    "print(arr[-9])"
   ]
  },
  {
   "cell_type": "code",
   "execution_count": 17,
   "id": "dceec8ac",
   "metadata": {},
   "outputs": [
    {
     "name": "stdout",
     "output_type": "stream",
     "text": [
      "[1 2 3 4 5 6 7 8 9]\n",
      "[1 4 7]\n"
     ]
    }
   ],
   "source": [
    "# step value in slicing a Numpy array\n",
    "print(arr)\n",
    "print(arr[0:9:3])   "
   ]
  },
  {
   "cell_type": "code",
   "execution_count": 18,
   "id": "b7396677",
   "metadata": {},
   "outputs": [
    {
     "name": "stdout",
     "output_type": "stream",
     "text": [
      "[1 3 5 7 9]\n",
      "[1 3 5]\n"
     ]
    }
   ],
   "source": [
    "print(arr[::2])\n",
    "print(arr[0:6:2])"
   ]
  },
  {
   "cell_type": "markdown",
   "id": "0c59c1bd",
   "metadata": {},
   "source": [
    "# Slicing of 2_D Array"
   ]
  },
  {
   "cell_type": "code",
   "execution_count": 19,
   "id": "9b0732e1",
   "metadata": {},
   "outputs": [
    {
     "name": "stdout",
     "output_type": "stream",
     "text": [
      "[[ 1  2  3  4  5]\n",
      " [ 6  7  8  9 10]]\n",
      "\n",
      "\n",
      "[1 2 3 4 5]\n",
      "[ 6  7  8  9 10]\n",
      "2\n",
      "[ 7  8  9 10]\n",
      "[2 3 4]\n"
     ]
    }
   ],
   "source": [
    "arr = np.array([[1,2,3,4,5],[6,7,8,9,10]])\n",
    "\n",
    "print(arr)\n",
    "\n",
    "print(\"\\n\")\n",
    "      \n",
    "print(arr[0])      \n",
    "print(arr[1]) \n",
    "print(arr[0,1])  \n",
    "\n",
    "print(arr[1,1:6]) \n",
    "print(arr[0,1:4])     "
   ]
  },
  {
   "cell_type": "code",
   "execution_count": 20,
   "id": "20c8463f",
   "metadata": {},
   "outputs": [
    {
     "name": "stdout",
     "output_type": "stream",
     "text": [
      "[[1 2 3 4]\n",
      " [6 7 8 9]]\n"
     ]
    }
   ],
   "source": [
    "print(arr[0:3,0:4])     "
   ]
  },
  {
   "cell_type": "code",
   "execution_count": 21,
   "id": "83c74ea4",
   "metadata": {},
   "outputs": [
    {
     "name": "stdout",
     "output_type": "stream",
     "text": [
      "[3 8]\n"
     ]
    }
   ],
   "source": [
    "print(arr[0:2,2])     "
   ]
  },
  {
   "cell_type": "code",
   "execution_count": 22,
   "id": "a7c8d643",
   "metadata": {},
   "outputs": [
    {
     "name": "stdout",
     "output_type": "stream",
     "text": [
      "[[ 1  2  3  4  5]\n",
      " [10 20 30 40 50]\n",
      " [11 22 33 44 55]]\n",
      "Diamensions: 2\n",
      "15\n",
      "(3, 5)\n"
     ]
    }
   ],
   "source": [
    "arr= np.array([[1,2,3,4,5],[10,20,30,40,50],[11,22,33,44,55]])\n",
    "\n",
    "print(arr)\n",
    "print(\"Diamensions:\",arr.ndim)\n",
    "print(arr.size)\n",
    "print(arr.shape)"
   ]
  },
  {
   "cell_type": "code",
   "execution_count": 23,
   "id": "d6d0a607",
   "metadata": {},
   "outputs": [
    {
     "name": "stdout",
     "output_type": "stream",
     "text": [
      "[[ 2  3]\n",
      " [20 30]]\n"
     ]
    }
   ],
   "source": [
    "print(arr[0:2,1:3])"
   ]
  },
  {
   "cell_type": "code",
   "execution_count": 24,
   "id": "ef4321ac",
   "metadata": {},
   "outputs": [
    {
     "name": "stdout",
     "output_type": "stream",
     "text": [
      "[[20]\n",
      " [22]]\n"
     ]
    }
   ],
   "source": [
    "print(arr[1:3,1:2])"
   ]
  },
  {
   "cell_type": "code",
   "execution_count": 25,
   "id": "592c4bcf",
   "metadata": {},
   "outputs": [
    {
     "name": "stdout",
     "output_type": "stream",
     "text": [
      "[[33 44 55]]\n"
     ]
    }
   ],
   "source": [
    "print(arr[2:3,2:5])"
   ]
  },
  {
   "cell_type": "markdown",
   "id": "39c5cd32",
   "metadata": {},
   "source": [
    "# Data Type In Numpy"
   ]
  },
  {
   "cell_type": "code",
   "execution_count": 26,
   "id": "de95588b",
   "metadata": {},
   "outputs": [
    {
     "name": "stdout",
     "output_type": "stream",
     "text": [
      "[1 2 3 4 5]\n",
      "int64\n"
     ]
    }
   ],
   "source": [
    "arr = np.array([1,2,3,4,5])\n",
    "print(arr)\n",
    "print(arr.dtype)"
   ]
  },
  {
   "cell_type": "code",
   "execution_count": 27,
   "id": "4c2171b2",
   "metadata": {},
   "outputs": [
    {
     "name": "stdout",
     "output_type": "stream",
     "text": [
      "['red,blue,orange,green']\n",
      "<U21\n"
     ]
    }
   ],
   "source": [
    "arr = np.array([\"red,blue,orange,green\"])\n",
    "print(arr)\n",
    "print(arr.dtype)"
   ]
  },
  {
   "cell_type": "code",
   "execution_count": 28,
   "id": "16c895a0",
   "metadata": {},
   "outputs": [
    {
     "name": "stdout",
     "output_type": "stream",
     "text": [
      "[1 2 3 4 5]\n",
      "int64\n"
     ]
    }
   ],
   "source": [
    "# creating arrays with defined data type\n",
    "arr = np.array([1,2,3,4,5],dtype=\"int\")\n",
    "print(arr)\n",
    "print(arr.dtype)"
   ]
  },
  {
   "cell_type": "code",
   "execution_count": 29,
   "id": "f2444f04",
   "metadata": {},
   "outputs": [
    {
     "name": "stdout",
     "output_type": "stream",
     "text": [
      "[1. 2. 3. 4. 5.]\n",
      "float64\n"
     ]
    }
   ],
   "source": [
    "arr = np.array([1,2,3,4,5],dtype=\"float\")\n",
    "print(arr)\n",
    "print(arr.dtype)"
   ]
  },
  {
   "cell_type": "code",
   "execution_count": 30,
   "id": "6ad95865",
   "metadata": {},
   "outputs": [
    {
     "name": "stdout",
     "output_type": "stream",
     "text": [
      "[1 2 3 4 5]\n",
      "int32\n"
     ]
    }
   ],
   "source": [
    "# int with 4 bytes\n",
    "\n",
    "arr = np.array([1,2,3,4,5],dtype=\"i4\")\n",
    "print(arr)\n",
    "print(arr.dtype)"
   ]
  },
  {
   "cell_type": "code",
   "execution_count": 31,
   "id": "9ef4f137",
   "metadata": {},
   "outputs": [
    {
     "name": "stdout",
     "output_type": "stream",
     "text": [
      "[1 2 3 4 5]\n",
      "int32\n"
     ]
    }
   ],
   "source": [
    "\n",
    "arr = np.array([1,2,3,4,5],dtype=\"i\")\n",
    "print(arr)\n",
    "print(arr.dtype)"
   ]
  },
  {
   "cell_type": "code",
   "execution_count": 32,
   "id": "d67d7d07",
   "metadata": {},
   "outputs": [
    {
     "ename": "NameError",
     "evalue": "name 'i' is not defined",
     "output_type": "error",
     "traceback": [
      "\u001b[0;31m---------------------------------------------------------------------------\u001b[0m",
      "\u001b[0;31mNameError\u001b[0m                                 Traceback (most recent call last)",
      "\u001b[0;32m<ipython-input-32-12c9ff28a420>\u001b[0m in \u001b[0;36m<module>\u001b[0;34m\u001b[0m\n\u001b[1;32m      1\u001b[0m \u001b[0;31m#Error\u001b[0m\u001b[0;34m\u001b[0m\u001b[0;34m\u001b[0m\u001b[0;34m\u001b[0m\u001b[0m\n\u001b[0;32m----> 2\u001b[0;31m \u001b[0marr\u001b[0m \u001b[0;34m=\u001b[0m \u001b[0mnp\u001b[0m\u001b[0;34m.\u001b[0m\u001b[0marray\u001b[0m\u001b[0;34m(\u001b[0m\u001b[0;34m[\u001b[0m\u001b[0;36m1\u001b[0m\u001b[0;34m,\u001b[0m\u001b[0;36m2\u001b[0m\u001b[0;34m,\u001b[0m\u001b[0;36m3\u001b[0m\u001b[0;34m,\u001b[0m\u001b[0;36m4\u001b[0m\u001b[0;34m,\u001b[0m\u001b[0;36m5\u001b[0m\u001b[0;34m]\u001b[0m\u001b[0;34m,\u001b[0m\u001b[0mdtype\u001b[0m\u001b[0;34m=\u001b[0m\u001b[0mi\u001b[0m\u001b[0;34m)\u001b[0m \u001b[0;31m#\"i\"\u001b[0m\u001b[0;34m\u001b[0m\u001b[0;34m\u001b[0m\u001b[0m\n\u001b[0m\u001b[1;32m      3\u001b[0m \u001b[0mprint\u001b[0m\u001b[0;34m(\u001b[0m\u001b[0marr\u001b[0m\u001b[0;34m)\u001b[0m\u001b[0;34m\u001b[0m\u001b[0;34m\u001b[0m\u001b[0m\n\u001b[1;32m      4\u001b[0m \u001b[0mprint\u001b[0m\u001b[0;34m(\u001b[0m\u001b[0marr\u001b[0m\u001b[0;34m.\u001b[0m\u001b[0mdtype\u001b[0m\u001b[0;34m)\u001b[0m\u001b[0;34m\u001b[0m\u001b[0;34m\u001b[0m\u001b[0m\n",
      "\u001b[0;31mNameError\u001b[0m: name 'i' is not defined"
     ]
    }
   ],
   "source": [
    "#Error\n",
    "arr = np.array([1,2,3,4,5],dtype=i) #\"i\"\n",
    "print(arr)\n",
    "print(arr.dtype)"
   ]
  },
  {
   "cell_type": "markdown",
   "id": "d00d6fcc",
   "metadata": {},
   "source": [
    "# Data Conversion"
   ]
  },
  {
   "cell_type": "code",
   "execution_count": 33,
   "id": "ff4360bc",
   "metadata": {},
   "outputs": [
    {
     "name": "stdout",
     "output_type": "stream",
     "text": [
      "[10.1 20.9 30.3 40.1 50.6]\n",
      "[10 20 30 40 50]\n",
      "int64\n"
     ]
    }
   ],
   "source": [
    "# Float into int\n",
    "\n",
    "arr = np.array([10.1,20.9,30.3,40.1,50.6])\n",
    "\n",
    "print(arr)\n",
    "\n",
    "newarr = arr.astype(\"int\")\n",
    "\n",
    "print(newarr)\n",
    "print(newarr.dtype)"
   ]
  },
  {
   "cell_type": "code",
   "execution_count": 34,
   "id": "07156080",
   "metadata": {},
   "outputs": [
    {
     "name": "stdout",
     "output_type": "stream",
     "text": [
      "[False  True False  True  True]\n",
      "bool\n"
     ]
    }
   ],
   "source": [
    "# int to bool\n",
    "\n",
    "arr = np.array([0,2,0,4,5])\n",
    "\n",
    "newarr = arr.astype(\"bool\")\n",
    "\n",
    "print(newarr)\n",
    "print(newarr.dtype)"
   ]
  },
  {
   "cell_type": "markdown",
   "id": "2e9b225b",
   "metadata": {},
   "source": [
    "# Difference Between Copy And View"
   ]
  },
  {
   "cell_type": "code",
   "execution_count": 35,
   "id": "0bf5df68",
   "metadata": {},
   "outputs": [
    {
     "name": "stdout",
     "output_type": "stream",
     "text": [
      "[3 4 2 4 6 7]\n",
      "\n",
      "\n",
      "[  3 100   2   4   6   7]\n",
      "[3 4 2 4 6 7]\n"
     ]
    }
   ],
   "source": [
    "# Copy: It is going to create new instance for your values\n",
    "\n",
    "\n",
    "arr = np.array([3,4,2,4,6,7])\n",
    "print(arr)\n",
    "print(\"\\n\")\n",
    "x = arr.copy()\n",
    "x[1]=100\n",
    "print(x)\n",
    "\n",
    "print(arr)"
   ]
  },
  {
   "cell_type": "code",
   "execution_count": 36,
   "id": "23f08098",
   "metadata": {},
   "outputs": [
    {
     "name": "stdout",
     "output_type": "stream",
     "text": [
      "[10 20 30 40 50 60]\n",
      "\n",
      "\n",
      "[ 10 100  30  40  50  60]\n",
      "[ 10 100  30  40  50  60]\n"
     ]
    }
   ],
   "source": [
    "# View\n",
    "\n",
    "\n",
    "arr = np.array([10,20,30,40,50,60])\n",
    "print(arr)\n",
    "print(\"\\n\")\n",
    "x = arr.view()\n",
    "x[1]= 100\n",
    "\n",
    "print(x)\n",
    "print(arr)"
   ]
  },
  {
   "cell_type": "code",
   "execution_count": 37,
   "id": "3333d18d",
   "metadata": {},
   "outputs": [
    {
     "name": "stdout",
     "output_type": "stream",
     "text": [
      "None\n",
      "[1 2 3 4 5]\n"
     ]
    }
   ],
   "source": [
    "arr = np.array([1,2,3,4,5])\n",
    "#print(arr)\n",
    "\n",
    "x = arr.copy()\n",
    "y = arr.view()\n",
    "\n",
    "print(x.base)\n",
    "print(y.base)"
   ]
  },
  {
   "cell_type": "markdown",
   "id": "210f83aa",
   "metadata": {},
   "source": [
    "# Numpy Array Reshaping"
   ]
  },
  {
   "cell_type": "code",
   "execution_count": 38,
   "id": "f61214da",
   "metadata": {},
   "outputs": [
    {
     "name": "stdout",
     "output_type": "stream",
     "text": [
      "12\n",
      "(12,)\n",
      "[[ 1  2]\n",
      " [ 3  4]\n",
      " [ 5  6]\n",
      " [ 7  8]\n",
      " [ 9 10]\n",
      " [11 12]] \n",
      "\n",
      "[[ 1  2  3  4  5  6]\n",
      " [ 7  8  9 10 11 12]] \n",
      "\n",
      "[[ 1  2  3]\n",
      " [ 4  5  6]\n",
      " [ 7  8  9]\n",
      " [10 11 12]] \n",
      "\n",
      "[[ 1  2  3  4]\n",
      " [ 5  6  7  8]\n",
      " [ 9 10 11 12]] \n",
      "\n",
      "[[ 1]\n",
      " [ 2]\n",
      " [ 3]\n",
      " [ 4]\n",
      " [ 5]\n",
      " [ 6]\n",
      " [ 7]\n",
      " [ 8]\n",
      " [ 9]\n",
      " [10]\n",
      " [11]\n",
      " [12]] \n",
      "\n",
      "[[ 1  2  3  4  5  6  7  8  9 10 11 12]] \n",
      "\n"
     ]
    }
   ],
   "source": [
    "# 1_D array to 2_D array\n",
    "\n",
    "arr = np.array([1,2,3,4,5,6,7,8,9,10,11,12])\n",
    "\n",
    "print(arr.size)\n",
    "print(arr.shape)\n",
    "\n",
    "\n",
    "newarr = arr.reshape(6,2)\n",
    "newarr1 = arr.reshape(2,6)\n",
    "newarr2 = arr.reshape(4,3)\n",
    "newarr3 = arr.reshape(3,4)\n",
    "newarr4 = arr.reshape(12,1)\n",
    "newarr5 = arr.reshape(1,12)\n",
    "\n",
    "\n",
    "\n",
    "print(newarr,\"\\n\")\n",
    "print(newarr1,\"\\n\")\n",
    "print(newarr2,\"\\n\")\n",
    "print(newarr3,\"\\n\")\n",
    "print(newarr4,\"\\n\")\n",
    "print(newarr5,\"\\n\")\n",
    "\n"
   ]
  },
  {
   "cell_type": "code",
   "execution_count": 39,
   "id": "df478b40",
   "metadata": {},
   "outputs": [
    {
     "name": "stdout",
     "output_type": "stream",
     "text": [
      "8\n",
      "(2, 4)\n",
      "[1 2 3 4 5 6 7 8]\n"
     ]
    }
   ],
   "source": [
    "# Create 2_D array and convert it in 1_D array\n",
    "\n",
    "\n",
    "arr = np.array([[1,2,3,4],[5,6,7,8]])\n",
    "\n",
    "print(arr.size)\n",
    "print(arr.shape)\n",
    "\n",
    "\n",
    "newarr = arr.reshape(-1)\n",
    "\n",
    "print(newarr)"
   ]
  },
  {
   "cell_type": "code",
   "execution_count": 40,
   "id": "3b5fc2a2",
   "metadata": {},
   "outputs": [
    {
     "name": "stdout",
     "output_type": "stream",
     "text": [
      "12\n",
      "(12,)\n",
      "[[[ 1  2]\n",
      "  [ 3  4]\n",
      "  [ 5  6]]\n",
      "\n",
      " [[ 7  8]\n",
      "  [ 9 10]\n",
      "  [11 12]]] \n",
      "\n",
      "[[[ 1  2  3]\n",
      "  [ 4  5  6]]\n",
      "\n",
      " [[ 7  8  9]\n",
      "  [10 11 12]]] \n",
      "\n",
      "[[[ 1  2]\n",
      "  [ 3  4]]\n",
      "\n",
      " [[ 5  6]\n",
      "  [ 7  8]]\n",
      "\n",
      " [[ 9 10]\n",
      "  [11 12]]] \n",
      "\n",
      "Diamentions : 3\n"
     ]
    }
   ],
   "source": [
    "# 1_D array to 3_D array\n",
    "\n",
    "arr = np.array([1,2,3,4,5,6,7,8,9,10,11,12])\n",
    "\n",
    "print(arr.size)\n",
    "print(arr.shape)\n",
    "\n",
    "newarr = arr.reshape(2,3,2)\n",
    "\n",
    "newarr1= arr.reshape(2,2,3)\n",
    "\n",
    "newarr2= arr.reshape(3,2,2)\n",
    "\n",
    "\n",
    "print(newarr,\"\\n\")\n",
    "print(newarr1,\"\\n\")\n",
    "print(newarr2,\"\\n\")\n",
    "      \n",
    "print(\"Diamentions :\",newarr.ndim)\n"
   ]
  },
  {
   "cell_type": "code",
   "execution_count": 41,
   "id": "aac31973",
   "metadata": {},
   "outputs": [
    {
     "name": "stdout",
     "output_type": "stream",
     "text": [
      "16\n",
      "(2, 2, 4)\n"
     ]
    }
   ],
   "source": [
    "#Create 3_d array and it convert in 1_D array\n",
    "\n",
    "arr = np.array([[[1,2,3,4],[5,6,7,8]],[[10,20,30,40],[50,60,70,80]]])\n",
    "\n",
    "print(arr.size)\n",
    "print(arr.shape)\n",
    "\n",
    "newarr = arr.reshape(-1)\n"
   ]
  },
  {
   "cell_type": "markdown",
   "id": "b35e800c",
   "metadata": {},
   "source": [
    "# Unknown Dimension"
   ]
  },
  {
   "cell_type": "code",
   "execution_count": 42,
   "id": "d4ff2507",
   "metadata": {},
   "outputs": [
    {
     "name": "stdout",
     "output_type": "stream",
     "text": [
      "[[[1 2]\n",
      "  [3 4]]\n",
      "\n",
      " [[5 6]\n",
      "  [7 8]]]\n"
     ]
    }
   ],
   "source": [
    "# If user dont know any one dimension out 3 diamensions then Numpy can obtain it for user.\n",
    "# User have mention the -1 for that dim.\n",
    "\n",
    "arr = np.array([1,2,3,4,5,6,7,8])\n",
    "\n",
    "newarr = arr.reshape(2,2,-1)\n",
    "\n",
    "print(newarr)"
   ]
  },
  {
   "cell_type": "markdown",
   "id": "680a1733",
   "metadata": {},
   "source": [
    "# Flattening an arrays"
   ]
  },
  {
   "cell_type": "code",
   "execution_count": 43,
   "id": "ce7e89fd",
   "metadata": {},
   "outputs": [
    {
     "name": "stdout",
     "output_type": "stream",
     "text": [
      "[[1 2 3 4]\n",
      " [5 6 7 8]]\n",
      "(2, 4)\n",
      "[1 2 3 4 5 6 7 8]\n",
      "(8,)\n"
     ]
    }
   ],
   "source": [
    "# If you want to obtain a 1-D array using N-D array then reshape(-1)\n",
    "arr = np.array([[1,2,3,4],[5,6,7,8]])\n",
    "print(arr)\n",
    "print(arr.shape)\n",
    "\n",
    "newarr = arr.reshape(-1)\n",
    "print(newarr)\n",
    "print(newarr.shape)"
   ]
  },
  {
   "cell_type": "markdown",
   "id": "2a89847b",
   "metadata": {},
   "source": [
    "# Numpy Array Iterating"
   ]
  },
  {
   "cell_type": "code",
   "execution_count": 44,
   "id": "a1776c8c",
   "metadata": {},
   "outputs": [
    {
     "name": "stdout",
     "output_type": "stream",
     "text": [
      "1\n",
      "2\n",
      "3\n",
      "4\n"
     ]
    }
   ],
   "source": [
    "# Iteraing : means that you going through each element of that array\n",
    "\n",
    "arr = np.array([1,2,3,4])\n",
    "\n",
    "for x in arr:\n",
    "    print(x)"
   ]
  },
  {
   "cell_type": "code",
   "execution_count": 45,
   "id": "1311e751",
   "metadata": {},
   "outputs": [
    {
     "name": "stdout",
     "output_type": "stream",
     "text": [
      "[1 2 3 4]\n",
      "[5 6 7 8]\n"
     ]
    }
   ],
   "source": [
    "#  Iterating on 2_D array\n",
    "arr = np.array([[1,2,3,4],[5,6,7,8]])\n",
    "\n",
    "for x in arr:\n",
    "    print(x)"
   ]
  },
  {
   "cell_type": "code",
   "execution_count": 46,
   "id": "a711f378",
   "metadata": {},
   "outputs": [
    {
     "name": "stdout",
     "output_type": "stream",
     "text": [
      "[1 2 3]\n",
      "1\n",
      "2\n",
      "3\n",
      "[4 5 6]\n",
      "4\n",
      "5\n",
      "6\n"
     ]
    }
   ],
   "source": [
    "# Iterating on scalar element of the 2_D array\n",
    "\n",
    "arr = np.array([[1,2,3],[4,5,6]])\n",
    "\n",
    "for x in arr:\n",
    "    print(x)\n",
    "    \n",
    "    for y in x:\n",
    "        print(y)"
   ]
  },
  {
   "cell_type": "code",
   "execution_count": 47,
   "id": "c2ed1342",
   "metadata": {},
   "outputs": [
    {
     "name": "stdout",
     "output_type": "stream",
     "text": [
      "3\n",
      "[[1 2 3]\n",
      " [4 5 6]] \n",
      "\n",
      "[1 2 3] \n",
      "\n",
      "1 \n",
      "\n",
      "2 \n",
      "\n",
      "3 \n",
      "\n",
      "[4 5 6] \n",
      "\n",
      "4 \n",
      "\n",
      "5 \n",
      "\n",
      "6 \n",
      "\n",
      "[[ 7  8  9]\n",
      " [10 11 12]] \n",
      "\n",
      "[7 8 9] \n",
      "\n",
      "7 \n",
      "\n",
      "8 \n",
      "\n",
      "9 \n",
      "\n",
      "[10 11 12] \n",
      "\n",
      "10 \n",
      "\n",
      "11 \n",
      "\n",
      "12 \n",
      "\n"
     ]
    }
   ],
   "source": [
    "# Iterating on scalar element of the 3_D array\n",
    "\n",
    "arr  = np.array([[[1,2,3],[4,5,6]],[[7,8,9],[10,11,12]]])\n",
    "\n",
    "print(arr.ndim)\n",
    "\n",
    "for x in arr:\n",
    "    print(x,\"\\n\")\n",
    "    for y in x:\n",
    "        print(y,\"\\n\")\n",
    "        for z in y:\n",
    "            print(z,\"\\n\")\n"
   ]
  },
  {
   "cell_type": "code",
   "execution_count": 48,
   "id": "524d7226",
   "metadata": {},
   "outputs": [
    {
     "name": "stdout",
     "output_type": "stream",
     "text": [
      "1\n",
      "2\n",
      "3\n",
      "4\n",
      "5\n",
      "6\n",
      "7\n",
      "8\n",
      "9\n",
      "10\n",
      "11\n",
      "12\n"
     ]
    }
   ],
   "source": [
    "# Iterating on each element oh the array\n",
    "\n",
    "arr  = np.array([[[1,2,3],[4,5,6]],[[7,8,9],[10,11,12]]])\n",
    "\n",
    "for x in arr:\n",
    "    for y in x:\n",
    "        for z in y:\n",
    "            print(z)"
   ]
  },
  {
   "cell_type": "markdown",
   "id": "040dfca0",
   "metadata": {},
   "source": [
    "# Iterator Array Using nditer"
   ]
  },
  {
   "cell_type": "code",
   "execution_count": 49,
   "id": "39619ef5",
   "metadata": {},
   "outputs": [
    {
     "name": "stdout",
     "output_type": "stream",
     "text": [
      "1\n",
      "2\n",
      "3\n",
      "4\n",
      "5\n",
      "6\n",
      "7\n",
      "8\n",
      "9\n",
      "10\n",
      "11\n",
      "12\n"
     ]
    }
   ],
   "source": [
    "arr  = np.array([[[1,2,3],[4,5,6]],[[7,8,9],[10,11,12]]])\n",
    "\n",
    "y = np.nditer(arr)\n",
    "\n",
    "for x in y:\n",
    "    print(x)"
   ]
  },
  {
   "cell_type": "code",
   "execution_count": 50,
   "id": "1e9b663d",
   "metadata": {},
   "outputs": [
    {
     "name": "stdout",
     "output_type": "stream",
     "text": [
      "1\n",
      "2\n",
      "3\n",
      "4\n",
      "\n",
      "\n",
      "1.0\n",
      "2.0\n",
      "3.0\n",
      "4.0\n",
      "\n",
      "\n",
      "b'1'\n",
      "b'2'\n",
      "b'3'\n",
      "b'4'\n"
     ]
    }
   ],
   "source": [
    "# casting array element from one type to other data type\n",
    "arr = np.array([1,2,3,4])\n",
    "\n",
    "\n",
    "for x in np.nditer(arr,flags=[\"buffered\"],op_dtypes=[\"U\"]):\n",
    "    print(x)\n",
    "print(\"\\n\")\n",
    "\n",
    "for x in np.nditer(arr,flags=[\"buffered\"],op_dtypes=[\"float\"]) :\n",
    "    print(x)\n",
    "print(\"\\n\") \n",
    "\n",
    "for x in np.nditer(arr,flags=[\"buffered\"],op_dtypes=[\"S\"]):\n",
    "    print(x)\n",
    "    "
   ]
  },
  {
   "cell_type": "code",
   "execution_count": 51,
   "id": "8a50fbdb",
   "metadata": {},
   "outputs": [
    {
     "name": "stdout",
     "output_type": "stream",
     "text": [
      "1\n",
      "3\n",
      "5\n",
      "7\n"
     ]
    }
   ],
   "source": [
    "# slicing of an numpy array  and steps in iteration\n",
    "arr = np.array([[1, 2, 3, 4], [5, 6, 7, 8]])\n",
    "\n",
    "for x in np.nditer(arr[:, ::2]):\n",
    "    print(x) "
   ]
  },
  {
   "cell_type": "markdown",
   "id": "e0d601b7",
   "metadata": {},
   "source": [
    "# Iteration Using ndenumerate()"
   ]
  },
  {
   "cell_type": "code",
   "execution_count": 52,
   "id": "6592aef0",
   "metadata": {},
   "outputs": [
    {
     "name": "stdout",
     "output_type": "stream",
     "text": [
      "(0,) 1\n",
      "(1,) 2\n",
      "(2,) 3\n",
      "(3,) 4\n"
     ]
    }
   ],
   "source": [
    "# Enumeration means mentioning sequence number of somethings\n",
    "# one by one.\n",
    "\n",
    "arr = np.array([1,2,3,4])\n",
    "\n",
    "for id,x in np.ndenumerate(arr):\n",
    "    print(id,x)"
   ]
  },
  {
   "cell_type": "code",
   "execution_count": 53,
   "id": "aea66bea",
   "metadata": {},
   "outputs": [
    {
     "name": "stdout",
     "output_type": "stream",
     "text": [
      "(0, 0) 1\n",
      "(0, 1) 3\n",
      "(0, 2) 2\n",
      "(0, 3) 4\n",
      "(1, 0) 6\n",
      "(1, 1) 5\n",
      "(1, 2) 8\n",
      "(1, 3) 7\n"
     ]
    }
   ],
   "source": [
    "# 2_D array\n",
    "\n",
    "arr = np.array([[1,3,2,4],[6,5,8,7]])\n",
    "\n",
    "for id,x in np.ndenumerate(arr):\n",
    "    print(id,x)"
   ]
  },
  {
   "cell_type": "markdown",
   "id": "a653e174",
   "metadata": {},
   "source": [
    "# Joining Array"
   ]
  },
  {
   "cell_type": "code",
   "execution_count": 54,
   "id": "53b2b3c2",
   "metadata": {},
   "outputs": [
    {
     "name": "stdout",
     "output_type": "stream",
     "text": [
      "[10 20 30  1  2  3  4]\n"
     ]
    }
   ],
   "source": [
    "arr1 = np.array([10,20,30])\n",
    "\n",
    "arr2 = np.array([1,2,3,4])\n",
    "\n",
    "arr3 = np.concatenate((arr1,arr2))\n",
    "\n",
    "print(arr3)"
   ]
  },
  {
   "cell_type": "code",
   "execution_count": 55,
   "id": "7ab5f9ab",
   "metadata": {},
   "outputs": [
    {
     "name": "stdout",
     "output_type": "stream",
     "text": [
      "[[ 1  2  3]\n",
      " [ 4  5  6]\n",
      " [ 7  8  9]\n",
      " [10 11 12]]\n",
      "\n",
      "\n",
      "[[ 1  2  3  7  8  9]\n",
      " [ 4  5  6 10 11 12]]\n"
     ]
    }
   ],
   "source": [
    "# Array concatenation using axis option\n",
    "\n",
    "arr1 = np.array([[1,2,3],[4,5,6]])\n",
    "\n",
    "arr2 = np.array([[7,8,9],[10,11,12]])\n",
    "\n",
    "\n",
    "arr = np.concatenate((arr1,arr2), axis = 0)\n",
    "print(arr)\n",
    "print(\"\\n\")\n",
    "\n",
    "\n",
    "arr = np.concatenate((arr1,arr2),axis=1)\n",
    "print(arr)"
   ]
  },
  {
   "cell_type": "markdown",
   "id": "7836a7b7",
   "metadata": {},
   "source": [
    "# Joining Arrays using Stack Function\n",
    "\n",
    "Stacking is same as concatenation, the only difference is that stacking is done along a new axis."
   ]
  },
  {
   "cell_type": "code",
   "execution_count": 56,
   "id": "6a35227d",
   "metadata": {},
   "outputs": [
    {
     "name": "stdout",
     "output_type": "stream",
     "text": [
      "[[[ 1  2  3]\n",
      "  [ 4  5  6]]\n",
      "\n",
      " [[ 7  8  9]\n",
      "  [10 11 12]]]\n",
      "[[[ 1  2  3]\n",
      "  [ 7  8  9]]\n",
      "\n",
      " [[ 4  5  6]\n",
      "  [10 11 12]]]\n"
     ]
    }
   ],
   "source": [
    "arr1 = np.array([[1,2,3],[4,5,6]])\n",
    "\n",
    "arr2 = np.array([[7,8,9],[10,11,12]])\n",
    "\n",
    "\n",
    "arr = np.stack((arr1,arr2), axis = 0)\n",
    "print(arr)\n",
    "#print(\"\\n\")\n",
    "\n",
    "\n",
    "arr = np.stack((arr1,arr2),axis=1)\n",
    "print(arr)"
   ]
  },
  {
   "cell_type": "code",
   "execution_count": 57,
   "id": "d6bfdfcd",
   "metadata": {},
   "outputs": [
    {
     "name": "stdout",
     "output_type": "stream",
     "text": [
      "[[1 4]\n",
      " [2 5]\n",
      " [3 6]]\n",
      "[[1 2 3]\n",
      " [4 5 6]]\n"
     ]
    }
   ],
   "source": [
    "arr1 = np.array([1, 2, 3])\n",
    "\n",
    "arr2 = np.array([4, 5, 6])\n",
    "\n",
    "arr = np.stack((arr1, arr2), axis=1)\n",
    "\n",
    "print(arr) \n",
    "\n",
    "arr = np.stack((arr1, arr2), axis=0)\n",
    "\n",
    "print(arr) \n"
   ]
  },
  {
   "cell_type": "code",
   "execution_count": 58,
   "id": "e2456786",
   "metadata": {},
   "outputs": [
    {
     "name": "stdout",
     "output_type": "stream",
     "text": [
      "[1 2 3 4 5 6 7 8]\n",
      "(8,)\n"
     ]
    }
   ],
   "source": [
    "# hstack\n",
    "arr1= np.array([1,2,3,4])\n",
    "\n",
    "arr2 = np.array([5,6,7,8])\n",
    "\n",
    "arr = np.hstack((arr1,arr2))\n",
    "\n",
    "print(arr)\n",
    "print(arr.shape)"
   ]
  },
  {
   "cell_type": "code",
   "execution_count": 59,
   "id": "8758b536",
   "metadata": {},
   "outputs": [
    {
     "name": "stdout",
     "output_type": "stream",
     "text": [
      "[[1 2 3 4]\n",
      " [5 6 7 8]]\n",
      "(2, 4)\n"
     ]
    }
   ],
   "source": [
    "# vstack  (along with the coloumn)\n",
    "arr1= np.array([1,2,3,4])\n",
    "\n",
    "arr2 = np.array([5,6,7,8])\n",
    "\n",
    "arr = np.vstack((arr1,arr2))\n",
    "\n",
    "print(arr)\n",
    "print(arr.shape)"
   ]
  },
  {
   "cell_type": "code",
   "execution_count": 60,
   "id": "3000ddce",
   "metadata": {},
   "outputs": [
    {
     "name": "stdout",
     "output_type": "stream",
     "text": [
      "[[[1 5]\n",
      "  [2 6]\n",
      "  [3 7]\n",
      "  [4 8]]]\n",
      "(1, 4, 2)\n"
     ]
    }
   ],
   "source": [
    "# dstack (along with the depth)\n",
    "arr1= np.array([1,2,3,4])\n",
    "\n",
    "arr2 = np.array([5,6,7,8])\n",
    "\n",
    "arr = np.dstack((arr1,arr2))\n",
    "\n",
    "print(arr)\n",
    "print(arr.shape)"
   ]
  },
  {
   "cell_type": "markdown",
   "id": "d697af84",
   "metadata": {},
   "source": [
    "# Splitting Array"
   ]
  },
  {
   "cell_type": "code",
   "execution_count": 61,
   "id": "4122239b",
   "metadata": {},
   "outputs": [
    {
     "name": "stdout",
     "output_type": "stream",
     "text": [
      "[1 2 3 4 5 6 7 8 9]\n",
      "[array([1, 2, 3]), array([4, 5, 6]), array([7, 8, 9])]\n",
      "[1 2 3]\n",
      "[4 5 6]\n",
      "[7 8 9]\n"
     ]
    }
   ],
   "source": [
    "arr = np.array([1,2,3,4,5,6,7,8,9])\n",
    "print(arr)\n",
    "\n",
    "newarr = np.split(arr,3)\n",
    "print(newarr)\n",
    "\n",
    "\n",
    "for i in newarr:\n",
    "    print(i)"
   ]
  },
  {
   "cell_type": "code",
   "execution_count": 62,
   "id": "e629caa9",
   "metadata": {},
   "outputs": [
    {
     "name": "stdout",
     "output_type": "stream",
     "text": [
      "[[1 2 3]\n",
      " [4 5 6]]\n",
      "[array([[1],\n",
      "       [4]]), array([[2],\n",
      "       [5]]), array([[3],\n",
      "       [6]])]\n",
      "[[1]\n",
      " [4]]\n",
      "[[2]\n",
      " [5]]\n",
      "[[3]\n",
      " [6]]\n"
     ]
    }
   ],
   "source": [
    "arr = np.array([[1,2,3],[4,5,6]])\n",
    "print(arr)\n",
    "\n",
    "newarr = np.split(arr,3,axis=1)\n",
    "print(newarr)\n",
    "\n",
    "for i in newarr:\n",
    "    print(i)"
   ]
  },
  {
   "cell_type": "code",
   "execution_count": 63,
   "id": "6a826473",
   "metadata": {},
   "outputs": [
    {
     "name": "stdout",
     "output_type": "stream",
     "text": [
      "[array([1, 2]), array([3]), array([4]), array([5]), array([6]), array([7])]\n"
     ]
    }
   ],
   "source": [
    "# If no.of elements less then it adjust in last array\n",
    "\n",
    "arr = np.array([1,2,3,4,5,6,7])\n",
    "\n",
    "#print(arr)\n",
    "\n",
    "newarr = np.array_split(arr,6)\n",
    "print(newarr)"
   ]
  },
  {
   "cell_type": "code",
   "execution_count": 64,
   "id": "b1e4ed49",
   "metadata": {},
   "outputs": [
    {
     "name": "stdout",
     "output_type": "stream",
     "text": [
      "[array([1, 2, 3]), array([4, 5, 6]), array([7, 8])]\n",
      "[4 5 6]\n",
      "[7 8]\n"
     ]
    }
   ],
   "source": [
    "arr = np.array([1,2,3,4,5,6,7,8])\n",
    "\n",
    "newarr = np.array_split(arr,3)\n",
    "print(newarr)\n",
    "print(newarr[1])\n",
    "print(newarr[2])"
   ]
  },
  {
   "cell_type": "code",
   "execution_count": 65,
   "id": "ea3a58af",
   "metadata": {},
   "outputs": [
    {
     "name": "stdout",
     "output_type": "stream",
     "text": [
      "[[1 2]\n",
      " [4 5]\n",
      " [7 8]] \n",
      "\n",
      "[[3]\n",
      " [6]\n",
      " [9]] \n",
      "\n"
     ]
    }
   ],
   "source": [
    "#splitting on 2_D Array\n",
    "\n",
    "arr = np.array([[1,2,3],[4,5,6],[7,8,9]])\n",
    "\n",
    "newarr = np.array_split(arr,2,axis=1)\n",
    "\n",
    "for i in newarr:\n",
    "    print(i,\"\\n\")"
   ]
  },
  {
   "cell_type": "code",
   "execution_count": 66,
   "id": "51b8f474",
   "metadata": {},
   "outputs": [
    {
     "name": "stdout",
     "output_type": "stream",
     "text": [
      "[array([[1, 2, 3],\n",
      "       [4, 5, 6]]), array([[7, 8, 9]])]\n"
     ]
    }
   ],
   "source": [
    "# Array splitting on axis\n",
    "arr = np.array([[1,2,3],[4,5,6],[7,8,9]])\n",
    "\n",
    "newarr = np.array_split(arr,2,axis=0)\n",
    "\n",
    "\n",
    "print(newarr)"
   ]
  },
  {
   "cell_type": "markdown",
   "id": "071b0f97",
   "metadata": {},
   "source": [
    "# Using hsplit() opposite of hstack()"
   ]
  },
  {
   "cell_type": "code",
   "execution_count": 67,
   "id": "be676b75",
   "metadata": {},
   "outputs": [
    {
     "name": "stdout",
     "output_type": "stream",
     "text": [
      "[array([[1],\n",
      "       [2],\n",
      "       [4],\n",
      "       [6],\n",
      "       [8]]), array([[20],\n",
      "       [ 3],\n",
      "       [ 5],\n",
      "       [ 7],\n",
      "       [ 9]])]\n"
     ]
    }
   ],
   "source": [
    "arr = np.array([[1,20],[2,3],[4,5],[6,7],[8,9]])\n",
    "\n",
    "newarr = np.hsplit(arr,2)\n",
    "print(newarr)"
   ]
  },
  {
   "cell_type": "markdown",
   "id": "32dab15b",
   "metadata": {},
   "source": [
    "# Searching Arrays"
   ]
  },
  {
   "cell_type": "code",
   "execution_count": 68,
   "id": "f31efdc3",
   "metadata": {},
   "outputs": [
    {
     "name": "stdout",
     "output_type": "stream",
     "text": [
      "[ 1  2  3 45  3  6  1  9]\n",
      "location : (array([3]),)\n"
     ]
    }
   ],
   "source": [
    "# Finding element in 1_D\n",
    "\n",
    "arr = np.array([1,2,3,45,3,6,1,9])\n",
    "\n",
    "\n",
    "x = np.where(arr == 45)\n",
    "print(arr)\n",
    "print(\"location :\",x)"
   ]
  },
  {
   "cell_type": "code",
   "execution_count": 69,
   "id": "88d753b6",
   "metadata": {},
   "outputs": [
    {
     "name": "stdout",
     "output_type": "stream",
     "text": [
      "[1 2 3 4 5 4 4]\n",
      "Location :  (array([4]),)\n"
     ]
    }
   ],
   "source": [
    "arr = np.array([1, 2, 3, 4, 5, 4, 4])\n",
    "\n",
    "x = np.where(arr == 5)\n",
    "\n",
    "print(arr)\n",
    "print(\"Location : \",x)\n"
   ]
  },
  {
   "cell_type": "code",
   "execution_count": 70,
   "id": "5aea5b5d",
   "metadata": {},
   "outputs": [
    {
     "name": "stdout",
     "output_type": "stream",
     "text": [
      "[[1 2 3 4]\n",
      " [5 6 7 8]]\n",
      "\n",
      " Addition :\n",
      " [[ 3  4  5  6]\n",
      " [ 7  8  9 10]]\n",
      "\n",
      " Substraction :\n",
      " [[-1  0  1  2]\n",
      " [ 3  4  5  6]]\n",
      "\n",
      " Multiplication :\n",
      " [[ 2  4  6  8]\n",
      " [10 12 14 16]]\n",
      "\n",
      " Division :\n",
      " [[ 2.  4.  6.  8.]\n",
      " [10. 12. 14. 16.]]\n"
     ]
    }
   ],
   "source": [
    "# Arithmetic operations on numpy array\n",
    "arr = np.array([[1,2,3,4],[5,6,7,8]])\n",
    "print(arr)\n",
    "\n",
    "\n",
    "print(\"\\n Addition :\\n\",arr+2)\n",
    "print(\"\\n Substraction :\\n\",arr-2)\n",
    "print(\"\\n Multiplication :\\n\",arr*2)\n",
    "print(\"\\n Division :\\n\",arr/0.5)"
   ]
  },
  {
   "cell_type": "code",
   "execution_count": 71,
   "id": "ed4231ce",
   "metadata": {},
   "outputs": [
    {
     "name": "stdout",
     "output_type": "stream",
     "text": [
      "(array([1, 3, 5, 7]),)\n"
     ]
    }
   ],
   "source": [
    "# Find the location of even number  in my numpy array\n",
    "\n",
    "arr = np.array([1,2,3,4,5,6,7,8,9])\n",
    "\n",
    "x = np.where(arr%2 == 0)\n",
    "\n",
    "print(x)"
   ]
  },
  {
   "cell_type": "code",
   "execution_count": 72,
   "id": "6c138a35",
   "metadata": {},
   "outputs": [
    {
     "name": "stdout",
     "output_type": "stream",
     "text": [
      "Locations : (array([0, 2, 4, 6, 8]),)\n"
     ]
    }
   ],
   "source": [
    "# Find the location of odd number  in my numpy array\n",
    "arr = np.array([1,2,3,4,5,6,7,8,9])\n",
    "\n",
    "x = np.where(arr%2 == 1)\n",
    "\n",
    "print(\"Locations :\",x)"
   ]
  },
  {
   "cell_type": "markdown",
   "id": "acb8d5a4",
   "metadata": {},
   "source": [
    "# Searchsorted()"
   ]
  },
  {
   "cell_type": "code",
   "execution_count": 73,
   "id": "f47ac082",
   "metadata": {},
   "outputs": [
    {
     "name": "stdout",
     "output_type": "stream",
     "text": [
      "[2 5 4 7 8 3]\n",
      "Location where element to be inserted: 3\n"
     ]
    }
   ],
   "source": [
    "# performs a binary search in the array, and returns the index \n",
    "# where the specified value would be inserted to maintain \n",
    "# the search order.\n",
    "\n",
    "# this method does not insert element , \n",
    "# it just returns a location for element in the numpy array\n",
    "\n",
    "\n",
    "arr = np.array([2,5,4,7,8,3])\n",
    "\n",
    "loc = np.searchsorted(arr,7, side=\"left\")\n",
    "\n",
    "print(arr)\n",
    "print(\"Location where element to be inserted:\",loc)"
   ]
  },
  {
   "cell_type": "code",
   "execution_count": 74,
   "id": "988fc60b",
   "metadata": {},
   "outputs": [
    {
     "name": "stdout",
     "output_type": "stream",
     "text": [
      "[2 5 4 7 8 3]\n",
      "Location where element to be inserted: 1\n"
     ]
    }
   ],
   "source": [
    "#side\n",
    "loc = np.searchsorted(arr,2.5, side=\"left\")\n",
    "\n",
    "print(arr)\n",
    "print(\"Location where element to be inserted:\",loc)\n"
   ]
  },
  {
   "cell_type": "code",
   "execution_count": 75,
   "id": "90b346c5",
   "metadata": {},
   "outputs": [
    {
     "name": "stdout",
     "output_type": "stream",
     "text": [
      "[1 4 3]\n"
     ]
    }
   ],
   "source": [
    "# multiple values\n",
    "arr = np.array([1, 3, 5, 7])\n",
    "\n",
    "x = np.searchsorted(arr, [2, 8, 6])\n",
    "\n",
    "print(x) \n"
   ]
  },
  {
   "cell_type": "markdown",
   "id": "dffb5753",
   "metadata": {},
   "source": [
    "# Sorting Arrays\n",
    "\n",
    "Sorting means putting elements in an ordered sequence.Like numeric or alphabetical,ascending or descending.\n",
    "\n",
    "sort(), that will sort specified array"
   ]
  },
  {
   "cell_type": "code",
   "execution_count": 76,
   "id": "a727369f",
   "metadata": {},
   "outputs": [
    {
     "name": "stdout",
     "output_type": "stream",
     "text": [
      "[4 7 1 3 9]\n",
      "[1 3 4 7 9]\n"
     ]
    }
   ],
   "source": [
    "# sort() on numerical arrays\n",
    "\n",
    "arr = np.array([4,7,1,3,9])\n",
    "\n",
    "res = np.sort(arr)\n",
    "\n",
    "print(arr)\n",
    "print(res)"
   ]
  },
  {
   "cell_type": "code",
   "execution_count": 77,
   "id": "f5b46733",
   "metadata": {},
   "outputs": [
    {
     "name": "stdout",
     "output_type": "stream",
     "text": [
      "['red' 'blue' 'yellow' 'green'] \n",
      "\n",
      "['blue' 'green' 'red' 'yellow']\n"
     ]
    }
   ],
   "source": [
    "#sort() on string array\n",
    "\n",
    "arr = np.array([\"red\",\"blue\",\"yellow\",\"green\"])\n",
    "\n",
    "res = np.sort(arr)\n",
    "\n",
    "print(arr,\"\\n\")\n",
    "\n",
    "print(res)"
   ]
  },
  {
   "cell_type": "code",
   "execution_count": 78,
   "id": "72fc3b1f",
   "metadata": {},
   "outputs": [
    {
     "name": "stdout",
     "output_type": "stream",
     "text": [
      "[ True  True False  True False] \n",
      "\n",
      "[False False  True  True  True]\n"
     ]
    }
   ],
   "source": [
    "# sort() on boolean values\n",
    "\n",
    "arr = np.array([True,True,False,True,False ])\n",
    "res = np.sort(arr)\n",
    "\n",
    "print(arr,\"\\n\")\n",
    "print(res)"
   ]
  },
  {
   "cell_type": "code",
   "execution_count": 79,
   "id": "baf12f22",
   "metadata": {},
   "outputs": [
    {
     "name": "stdout",
     "output_type": "stream",
     "text": [
      "[[1 7 3]\n",
      " [2 9 4]] \n",
      "\n",
      "[[1 3 7]\n",
      " [2 4 9]]\n",
      "\n",
      "\n",
      "Sorting on 0 axis :\n",
      " [[1 7 3]\n",
      " [2 9 4]]\n",
      "[[1 7 3]\n",
      " [2 9 4]]\n",
      "\n",
      "\n",
      "Sorting on 1 axis :\n",
      " [[1 7 3]\n",
      " [2 9 4]]\n",
      "[[1 3 7]\n",
      " [2 4 9]]\n"
     ]
    }
   ],
   "source": [
    "# sort on 2_D array\n",
    "\n",
    "arr = np.array([[1,7,3],[2,9,4]])\n",
    "\n",
    "res = np.sort(arr)\n",
    "print(arr,\"\\n\")\n",
    "print(res)\n",
    "\n",
    "print(\"\\n\")\n",
    "#Working on axis \n",
    "#axis=0\n",
    "print(\"Sorting on 0 axis :\\n\",arr)\n",
    "res = np.sort(arr,axis=0)\n",
    "print(res)\n",
    "\n",
    "#axis = 1\n",
    "print(\"\\n\")\n",
    "print(\"Sorting on 1 axis :\\n\",arr)\n",
    "res = np.sort(arr,axis=1)\n",
    "print(res)"
   ]
  },
  {
   "cell_type": "markdown",
   "id": "c507cf01",
   "metadata": {},
   "source": [
    "# Filter Array\n",
    "\n",
    "Getting some element out of an existing array and creating a new array out of them is called filtering.\n",
    "\n",
    "Numpy filter an array using a boolean index list.\n",
    "\n",
    "A boolean index list is alist of booleans corresponding to indexes in the array."
   ]
  },
  {
   "cell_type": "code",
   "execution_count": 80,
   "id": "d59dc2f1",
   "metadata": {},
   "outputs": [
    {
     "name": "stdout",
     "output_type": "stream",
     "text": [
      "[1 2 3 4 5 6] \n",
      "\n",
      "[2 3 5]\n"
     ]
    }
   ],
   "source": [
    "arr =np.array([1,2,3,4,5,6])\n",
    "\n",
    "x = [False,True,True,False,True,False]\n",
    "\n",
    "newarr = arr[x]\n",
    "\n",
    "print(arr,\"\\n\")\n",
    "print(newarr)"
   ]
  },
  {
   "cell_type": "code",
   "execution_count": 81,
   "id": "a9f882e2",
   "metadata": {},
   "outputs": [
    {
     "name": "stdout",
     "output_type": "stream",
     "text": [
      "[1 2 3 4 5 6 7 8 9]\n",
      "[False, False, False, False, True, True, True, True, True]\n",
      "[5 6 7 8 9]\n"
     ]
    }
   ],
   "source": [
    "arr = np.array([1,2,3,4,5,6,7,8,9])\n",
    "\n",
    "print(arr)\n",
    "# Create an empty list\n",
    "index = []\n",
    "\n",
    "# go through each element in arr\n",
    "for i in arr:\n",
    "    \n",
    "  # if the element is higher than 4, set the value to True, otherwise False:\n",
    "    if i > 4:\n",
    "        index.append(True)\n",
    "    else:\n",
    "        index.append(False)\n",
    "\n",
    "print(index)\n",
    "\n",
    "newarr = arr[index]\n",
    "\n",
    "print(newarr)"
   ]
  },
  {
   "cell_type": "code",
   "execution_count": 82,
   "id": "892f5121",
   "metadata": {},
   "outputs": [
    {
     "name": "stdout",
     "output_type": "stream",
     "text": [
      "[1 2 3 4 5 6 7 8 9]\n",
      "[False, True, False, True, False, True, False, True, False]\n",
      "[2 4 6 8]\n"
     ]
    }
   ],
   "source": [
    "# Print a  list of even numbers from origial list using array filter\n",
    "\n",
    "arr = np.array([1,2,3,4,5,6,7,8,9])\n",
    "\n",
    "print(arr)\n",
    "\n",
    "index = []\n",
    "#i%2==0\n",
    "\n",
    "for i in arr:\n",
    "    if i%2==0:\n",
    "        index.append(True)\n",
    "        \n",
    "    else:\n",
    "        index.append(False)\n",
    "        \n",
    "print(index) \n",
    "\n",
    "newarr = arr[index]\n",
    "print(newarr)"
   ]
  },
  {
   "cell_type": "code",
   "execution_count": 83,
   "id": "fb645abe",
   "metadata": {},
   "outputs": [
    {
     "name": "stdout",
     "output_type": "stream",
     "text": [
      "[1 2 3 4 5 6 7 8 9]\n",
      "[True, False, True, False, True, False, True, False, True]\n",
      "[1 3 5 7 9]\n"
     ]
    }
   ],
   "source": [
    "# Print a  list of odd numbers from origial list using array filter\n",
    "\n",
    "arr = np.array([1,2,3,4,5,6,7,8,9])\n",
    "\n",
    "print(arr)\n",
    "\n",
    "index = []\n",
    "#i%2==0\n",
    "\n",
    "for i in arr:\n",
    "    if i%2==1:\n",
    "        index.append(True)\n",
    "        \n",
    "    else:\n",
    "        index.append(False)\n",
    "        \n",
    "print(index) \n",
    "\n",
    "newarr = arr[index]\n",
    "print(newarr)"
   ]
  },
  {
   "cell_type": "code",
   "execution_count": 84,
   "id": "0414ed6d",
   "metadata": {},
   "outputs": [
    {
     "name": "stdout",
     "output_type": "stream",
     "text": [
      "[False False  True  True]\n",
      "[45 67]\n"
     ]
    }
   ],
   "source": [
    "arr = np.array([12,23,45,67])\n",
    "\n",
    "filter_arr = arr > 23\n",
    "\n",
    "newarr = arr[filter_arr]\n",
    "\n",
    "print(filter_arr)\n",
    "print(newarr)\n"
   ]
  },
  {
   "cell_type": "code",
   "execution_count": 85,
   "id": "b97ab487",
   "metadata": {},
   "outputs": [
    {
     "name": "stdout",
     "output_type": "stream",
     "text": [
      "[False  True False  True  True False False]\n",
      "[ 2  4 56]\n"
     ]
    }
   ],
   "source": [
    "arr = np.array([1,2,3,4,56,7,89])\n",
    "\n",
    "filter_arr = (arr % 2 ==0)\n",
    "\n",
    "newarr  = arr[filter_arr]\n",
    "\n",
    "print(filter_arr)\n",
    "\n",
    "print(newarr)"
   ]
  },
  {
   "cell_type": "markdown",
   "id": "c2ddfcce",
   "metadata": {},
   "source": [
    "# Other Numpy Functions"
   ]
  },
  {
   "cell_type": "code",
   "execution_count": 86,
   "id": "823b43bf",
   "metadata": {},
   "outputs": [
    {
     "name": "stdout",
     "output_type": "stream",
     "text": [
      "[ 0  1  2  3  4  5  6  7  8  9 10 11 12 13 14 15 16 17 18 19]\n",
      "<class 'numpy.ndarray'>\n"
     ]
    }
   ],
   "source": [
    "arr = np.arange(20)\n",
    "print(arr)\n",
    "print(type(arr))"
   ]
  },
  {
   "cell_type": "code",
   "execution_count": 87,
   "id": "a66008e5",
   "metadata": {},
   "outputs": [
    {
     "name": "stdout",
     "output_type": "stream",
     "text": [
      "[ 0  1  2  3  4  5  6  7  8  9 10 11 12 13 14 15 16 17 18 19]\n"
     ]
    }
   ],
   "source": [
    "print(arr)"
   ]
  },
  {
   "cell_type": "code",
   "execution_count": 88,
   "id": "f662ef08",
   "metadata": {},
   "outputs": [
    {
     "name": "stdout",
     "output_type": "stream",
     "text": [
      "[ 0  1  2  3  4  5  6  7  8  9 10 11 12 13 14 15 16 17 18 19]\n",
      "[[ 0  1  2  3]\n",
      " [ 4  5  6  7]\n",
      " [ 8  9 10 11]\n",
      " [12 13 14 15]\n",
      " [16 17 18 19]]\n",
      "[[ 0  1  2  3]\n",
      " [ 4  5  6  7]\n",
      " [ 8  9 10 11]\n",
      " [12 13 14 15]\n",
      " [16 17 18 19]]\n",
      "(5, 4)\n"
     ]
    }
   ],
   "source": [
    "#convert 2_D\n",
    "\n",
    "\n",
    "print(arr)\n",
    "arr_2d = np.reshape(arr,(5,4))\n",
    "\n",
    "print(arr_2d)\n",
    "\n",
    "arr2 = arr.reshape(5,4)\n",
    "print(arr2)\n",
    "print(arr2.shape)"
   ]
  },
  {
   "cell_type": "code",
   "execution_count": 89,
   "id": "1a4c5f3c",
   "metadata": {},
   "outputs": [
    {
     "name": "stdout",
     "output_type": "stream",
     "text": [
      "[[ 0  1  2  3]\n",
      " [ 4  5  6  7]\n",
      " [ 8  9 10 11]\n",
      " [12 13 14 15]\n",
      " [16 17 18 19]]\n"
     ]
    }
   ],
   "source": [
    "print(arr_2d)"
   ]
  },
  {
   "cell_type": "code",
   "execution_count": 90,
   "id": "05a62715",
   "metadata": {},
   "outputs": [
    {
     "data": {
      "text/plain": [
       "0"
      ]
     },
     "execution_count": 90,
     "metadata": {},
     "output_type": "execute_result"
    }
   ],
   "source": [
    "arr_2d.min()"
   ]
  },
  {
   "cell_type": "code",
   "execution_count": 91,
   "id": "de17e096",
   "metadata": {},
   "outputs": [
    {
     "data": {
      "text/plain": [
       "19"
      ]
     },
     "execution_count": 91,
     "metadata": {},
     "output_type": "execute_result"
    }
   ],
   "source": [
    "arr_2d.max()"
   ]
  },
  {
   "cell_type": "code",
   "execution_count": 92,
   "id": "b36d1ffb",
   "metadata": {},
   "outputs": [
    {
     "data": {
      "text/plain": [
       "19"
      ]
     },
     "execution_count": 92,
     "metadata": {},
     "output_type": "execute_result"
    }
   ],
   "source": [
    "arr_2d.argmax()"
   ]
  },
  {
   "cell_type": "code",
   "execution_count": 93,
   "id": "a558ee6f",
   "metadata": {},
   "outputs": [
    {
     "data": {
      "text/plain": [
       "array([[0, 1, 2, 3],\n",
       "       [0, 1, 2, 3],\n",
       "       [0, 1, 2, 3],\n",
       "       [0, 1, 2, 3],\n",
       "       [0, 1, 2, 3]])"
      ]
     },
     "execution_count": 93,
     "metadata": {},
     "output_type": "execute_result"
    }
   ],
   "source": [
    "# Indices to sort array\n",
    "arr_2d.argsort()"
   ]
  },
  {
   "cell_type": "code",
   "execution_count": 94,
   "id": "f93fc8c4",
   "metadata": {},
   "outputs": [
    {
     "data": {
      "text/plain": [
       "array([ 0,  5, 10, 15])"
      ]
     },
     "execution_count": 94,
     "metadata": {},
     "output_type": "execute_result"
    }
   ],
   "source": [
    "arr_2d.diagonal()"
   ]
  },
  {
   "cell_type": "code",
   "execution_count": 95,
   "id": "6e6c3285",
   "metadata": {},
   "outputs": [
    {
     "data": {
      "text/plain": [
       "190"
      ]
     },
     "execution_count": 95,
     "metadata": {},
     "output_type": "execute_result"
    }
   ],
   "source": [
    "arr_2d.sum()"
   ]
  },
  {
   "cell_type": "code",
   "execution_count": 96,
   "id": "6e466338",
   "metadata": {},
   "outputs": [
    {
     "data": {
      "text/plain": [
       "9.5"
      ]
     },
     "execution_count": 96,
     "metadata": {},
     "output_type": "execute_result"
    }
   ],
   "source": [
    "arr_2d.mean()"
   ]
  },
  {
   "cell_type": "code",
   "execution_count": 97,
   "id": "9c76080c",
   "metadata": {},
   "outputs": [
    {
     "name": "stdout",
     "output_type": "stream",
     "text": [
      "[[ 0  1  2  3]\n",
      " [ 4  5  6  7]\n",
      " [ 8  9 10 11]\n",
      " [12 13 14 15]\n",
      " [16 17 18 19]]\n"
     ]
    },
    {
     "data": {
      "text/plain": [
       "(array([0, 0, 0, 1, 1, 1, 1, 2, 2, 2, 2, 3, 3, 3, 3, 4, 4, 4, 4]),\n",
       " array([1, 2, 3, 0, 1, 2, 3, 0, 1, 2, 3, 0, 1, 2, 3, 0, 1, 2, 3]))"
      ]
     },
     "execution_count": 97,
     "metadata": {},
     "output_type": "execute_result"
    }
   ],
   "source": [
    "# Return th eindices of non zero elements\n",
    "print(arr_2d)\n",
    "arr_2d.nonzero()"
   ]
  },
  {
   "cell_type": "code",
   "execution_count": 98,
   "id": "c1a2e314",
   "metadata": {},
   "outputs": [],
   "source": [
    "# Create array of 10 elements between start to end values\n",
    "\n",
    "arr2 = np.linspace(11,34,10)"
   ]
  },
  {
   "cell_type": "code",
   "execution_count": 99,
   "id": "eaf0b036",
   "metadata": {},
   "outputs": [
    {
     "data": {
      "text/plain": [
       "array([11.        , 13.55555556, 16.11111111, 18.66666667, 21.22222222,\n",
       "       23.77777778, 26.33333333, 28.88888889, 31.44444444, 34.        ])"
      ]
     },
     "execution_count": 99,
     "metadata": {},
     "output_type": "execute_result"
    }
   ],
   "source": [
    "arr2"
   ]
  },
  {
   "cell_type": "code",
   "execution_count": 101,
   "id": "d189bdcb",
   "metadata": {},
   "outputs": [
    {
     "name": "stdout",
     "output_type": "stream",
     "text": [
      "[[ 0  1  2  3]\n",
      " [ 4  5  6  7]\n",
      " [ 8  9 10 11]\n",
      " [12 13 14 15]\n",
      " [16 17 18 19]]\n"
     ]
    },
    {
     "data": {
      "text/plain": [
       "array([ 0,  1,  2,  3,  4,  5,  6,  7,  8,  9, 10, 11, 12, 13, 14, 15, 16,\n",
       "       17, 18, 19])"
      ]
     },
     "execution_count": 101,
     "metadata": {},
     "output_type": "execute_result"
    }
   ],
   "source": [
    "#Flatten array\n",
    "\n",
    "print(arr_2d)\n",
    "arr_2d.ravel()"
   ]
  },
  {
   "cell_type": "code",
   "execution_count": 104,
   "id": "2b5e7946",
   "metadata": {},
   "outputs": [
    {
     "data": {
      "text/plain": [
       "array([[ 0.12314718,  0.29775498, -0.38201044],\n",
       "       [ 1.05781019,  0.44561866,  0.16749099],\n",
       "       [-0.91486994,  0.22112874,  1.7693209 ],\n",
       "       [-0.50041598, -0.07986632,  0.79804933]])"
      ]
     },
     "execution_count": 104,
     "metadata": {},
     "output_type": "execute_result"
    }
   ],
   "source": [
    "# Create array with random element\n",
    "\n",
    "arr = np.random.randn(4,3)\n",
    "arr"
   ]
  },
  {
   "cell_type": "code",
   "execution_count": 105,
   "id": "828ba7f9",
   "metadata": {},
   "outputs": [
    {
     "name": "stdout",
     "output_type": "stream",
     "text": [
      "[[1. 0. 0. 0.]\n",
      " [0. 1. 0. 0.]\n",
      " [0. 0. 1. 0.]\n",
      " [0. 0. 0. 1.]]\n",
      "[[0. 0. 0. 1. 0.]\n",
      " [0. 0. 0. 0. 1.]\n",
      " [0. 0. 0. 0. 0.]\n",
      " [0. 0. 0. 0. 0.]\n",
      " [0. 0. 0. 0. 0.]]\n"
     ]
    }
   ],
   "source": [
    "# Unit matrix\n",
    "arr = np.eye(4,4)\n",
    "print(arr)\n",
    "\n",
    "arr2 = np.eye(5,5,3)\n",
    "print(arr2)"
   ]
  },
  {
   "cell_type": "code",
   "execution_count": 106,
   "id": "b8c9568a",
   "metadata": {},
   "outputs": [
    {
     "data": {
      "text/plain": [
       "array([[1., 0., 0., 0.],\n",
       "       [0., 1., 0., 0.],\n",
       "       [0., 0., 1., 0.],\n",
       "       [0., 0., 0., 1.]])"
      ]
     },
     "execution_count": 106,
     "metadata": {},
     "output_type": "execute_result"
    }
   ],
   "source": [
    "arr"
   ]
  },
  {
   "cell_type": "code",
   "execution_count": 109,
   "id": "1bcb0a07",
   "metadata": {},
   "outputs": [
    {
     "data": {
      "text/plain": [
       "array([[1., 1., 1.],\n",
       "       [1., 1., 1.]])"
      ]
     },
     "execution_count": 109,
     "metadata": {},
     "output_type": "execute_result"
    }
   ],
   "source": [
    "arr =np.ones((2,3))\n",
    "arr"
   ]
  },
  {
   "cell_type": "code",
   "execution_count": 110,
   "id": "c71ff1d1",
   "metadata": {},
   "outputs": [
    {
     "data": {
      "text/plain": [
       "array([[3, 0, 0, 0],\n",
       "       [0, 3, 0, 0],\n",
       "       [0, 0, 3, 0],\n",
       "       [0, 0, 0, 3]])"
      ]
     },
     "execution_count": 110,
     "metadata": {},
     "output_type": "execute_result"
    }
   ],
   "source": [
    "arr=np.diag([3,3,3,3])\n",
    "arr"
   ]
  },
  {
   "cell_type": "code",
   "execution_count": 113,
   "id": "2fcbdf15",
   "metadata": {},
   "outputs": [
    {
     "name": "stdout",
     "output_type": "stream",
     "text": [
      "[1 2 3 4]\n",
      "[1 2 3 4]\n"
     ]
    }
   ],
   "source": [
    "arr1 = np.arange(1,5)\n",
    "arr2 = np.arange(1,5)\n",
    "print(arr1)\n",
    "print(arr2)"
   ]
  },
  {
   "cell_type": "code",
   "execution_count": 114,
   "id": "2548e19e",
   "metadata": {},
   "outputs": [
    {
     "name": "stdout",
     "output_type": "stream",
     "text": [
      "[[1 2]\n",
      " [3 4]]\n",
      "[[1 2]\n",
      " [3 4]]\n"
     ]
    }
   ],
   "source": [
    "ar1 =arr1.reshape(2,2)\n",
    "ar2 =arr2.reshape(2,2)\n",
    "print(ar1)\n",
    "print(ar2)"
   ]
  },
  {
   "cell_type": "code",
   "execution_count": 115,
   "id": "d40232d2",
   "metadata": {},
   "outputs": [
    {
     "data": {
      "text/plain": [
       "array([[ 7, 10],\n",
       "       [15, 22]])"
      ]
     },
     "execution_count": 115,
     "metadata": {},
     "output_type": "execute_result"
    }
   ],
   "source": [
    "ar1.dot(ar2)"
   ]
  },
  {
   "cell_type": "code",
   "execution_count": null,
   "id": "b1a8ac23",
   "metadata": {},
   "outputs": [],
   "source": [
    "ar1*"
   ]
  }
 ],
 "metadata": {
  "kernelspec": {
   "display_name": "Python 3",
   "language": "python",
   "name": "python3"
  },
  "language_info": {
   "codemirror_mode": {
    "name": "ipython",
    "version": 3
   },
   "file_extension": ".py",
   "mimetype": "text/x-python",
   "name": "python",
   "nbconvert_exporter": "python",
   "pygments_lexer": "ipython3",
   "version": "3.6.9"
  }
 },
 "nbformat": 4,
 "nbformat_minor": 5
}
